{
 "cells": [
  {
   "cell_type": "markdown",
   "metadata": {},
   "source": [
    "### Lab: Introduction to Programming language"
   ]
  },
  {
   "cell_type": "code",
   "execution_count": 72,
   "metadata": {},
   "outputs": [],
   "source": [
    "#Import needed packages\n",
    "import numpy as np\n",
    "import pandas as pd \n",
    "import matplotlib.pyplot as plt"
   ]
  },
  {
   "cell_type": "code",
   "execution_count": 74,
   "metadata": {},
   "outputs": [
    {
     "name": "stdout",
     "output_type": "stream",
     "text": [
      "[1 6 2]\n",
      "<class 'numpy.ndarray'>\n",
      "[1, 6, 2]\n",
      "<class 'list'>\n"
     ]
    }
   ],
   "source": [
    "#create a simple array using the imported package \n",
    "x = np.array([1,6,2])\n",
    "print(x)\n",
    "print(type(x))\n",
    "\n",
    "x = [1, 6, 2]\n",
    "print(x)\n",
    "print(type(x))\n"
   ]
  },
  {
   "cell_type": "code",
   "execution_count": 78,
   "metadata": {},
   "outputs": [
    {
     "name": "stdout",
     "output_type": "stream",
     "text": [
      "1\n",
      "2\n",
      "3\n",
      "4\n",
      "5\n",
      "6\n",
      "7\n",
      "8\n",
      "9\n",
      "10\n",
      "11\n",
      "12\n",
      "13\n",
      "14\n",
      "15\n",
      "16\n",
      "[ 1  2  3  4  5  6  7  8  9 10 11 12 13 14 15 16]\n"
     ]
    }
   ],
   "source": [
    "n = 16\n",
    "for i in range(1, n+1):\n",
    "    print(i)\n",
    "\n",
    "## numpy arange function [1, 2, ..., n]\n",
    "a = np.arange(1, n+1)\n",
    "print(a)"
   ]
  },
  {
   "cell_type": "code",
   "execution_count": 81,
   "metadata": {},
   "outputs": [
    {
     "name": "stdout",
     "output_type": "stream",
     "text": [
      "[[ 1  2  3  4]\n",
      " [ 5  6  7  8]\n",
      " [ 9 10 11 12]\n",
      " [13 14 15 16]]\n",
      "(4, 4)\n"
     ]
    }
   ],
   "source": [
    "## Understand how indexing in python works\n",
    "a = a.reshape(4, 4)\n",
    "print(a)\n",
    "print(a.shape)"
   ]
  },
  {
   "cell_type": "code",
   "execution_count": 83,
   "metadata": {},
   "outputs": [
    {
     "name": "stdout",
     "output_type": "stream",
     "text": [
      "2\n",
      "7\n",
      "[[ 2  3  4]\n",
      " [ 6  7  8]\n",
      " [10 11 12]]\n",
      "11\n"
     ]
    }
   ],
   "source": [
    "print(a[0, 1])\n",
    "print(a[1, 2])\n",
    "print(a[0:3, 1:4])\n",
    "print(a[-2, -2])"
   ]
  },
  {
   "cell_type": "code",
   "execution_count": 12,
   "metadata": {},
   "outputs": [
    {
     "name": "stdout",
     "output_type": "stream",
     "text": [
      "[1 2 3]\n"
     ]
    }
   ],
   "source": [
    "## vector and matrix calculation\n",
    "x = np.array([1, 2, 3])\n",
    "print(x)"
   ]
  },
  {
   "cell_type": "code",
   "execution_count": 13,
   "metadata": {},
   "outputs": [
    {
     "name": "stdout",
     "output_type": "stream",
     "text": [
      "14\n"
     ]
    }
   ],
   "source": [
    "## dot product\n",
    "print(np.dot(x, x))"
   ]
  },
  {
   "cell_type": "code",
   "execution_count": 89,
   "metadata": {},
   "outputs": [
    {
     "name": "stdout",
     "output_type": "stream",
     "text": [
      "[[1 0 0]\n",
      " [0 2 0]\n",
      " [0 0 1]]\n",
      "[[1 0 0]\n",
      " [0 2 0]\n",
      " [0 0 3]]\n"
     ]
    }
   ],
   "source": [
    "x = np.diag([1, 2, 1])\n",
    "\n",
    "\n",
    "print(x)\n",
    "\n",
    "y = np.diag([1, 2, 3])\n",
    "\n",
    "print(y)\n",
    "\n"
   ]
  },
  {
   "cell_type": "code",
   "execution_count": 90,
   "metadata": {},
   "outputs": [
    {
     "name": "stdout",
     "output_type": "stream",
     "text": [
      "[[1 0 0]\n",
      " [0 4 0]\n",
      " [0 0 3]]\n"
     ]
    }
   ],
   "source": [
    "result = np.matmul(x, y)\n",
    "print(result)"
   ]
  },
  {
   "cell_type": "code",
   "execution_count": 17,
   "metadata": {},
   "outputs": [
    {
     "name": "stdout",
     "output_type": "stream",
     "text": [
      "[[1 2]\n",
      " [3 4]\n",
      " [5 6]]\n",
      "(3, 2)\n"
     ]
    }
   ],
   "source": [
    "x = np.array([[1, 2], [3, 4], [5, 6]])\n",
    "print(x)\n",
    "print(x.shape)"
   ]
  },
  {
   "cell_type": "code",
   "execution_count": 18,
   "metadata": {},
   "outputs": [
    {
     "name": "stdout",
     "output_type": "stream",
     "text": [
      "[[1 2 3]\n",
      " [4 5 6]]\n",
      "(2, 3)\n"
     ]
    }
   ],
   "source": [
    "y = np.array([[1, 2, 3], [4, 5, 6]])\n",
    "print(y)\n",
    "print(y.shape)"
   ]
  },
  {
   "cell_type": "code",
   "execution_count": 19,
   "metadata": {},
   "outputs": [
    {
     "name": "stdout",
     "output_type": "stream",
     "text": [
      "[[ 9 12 15]\n",
      " [19 26 33]\n",
      " [29 40 51]]\n",
      "(3, 3)\n"
     ]
    }
   ],
   "source": [
    "result = np.matmul(x, y)\n",
    "print(result)\n",
    "print(result.shape)"
   ]
  },
  {
   "cell_type": "code",
   "execution_count": 92,
   "metadata": {},
   "outputs": [
    {
     "name": "stdout",
     "output_type": "stream",
     "text": [
      "[-1.18036477  1.57322517  1.2159335   0.46759807 -0.91475078  1.66142488\n",
      "  1.43538996  0.69430838 -0.14801092  0.50512932  0.90640005 -0.01146518\n",
      "  0.24377121  0.66108517  0.98275998 -0.32282508 -0.18437278  0.60407809\n",
      " -0.33139377 -0.84393787  0.44259246  1.18050832 -0.60620969  0.70890591\n",
      " -0.00382006  1.56918375 -0.34998257  0.32677581  0.12716203 -1.2721723\n",
      " -0.48784329 -0.27438856 -0.11358401 -0.86829896  0.24543749 -0.58820332\n",
      " -0.35278707  0.31566069 -0.05887115 -0.2468237  -0.69041751 -0.45084252\n",
      " -0.90962519  0.3879501  -1.19181312  1.20470512  1.08673541  0.95276247\n",
      "  0.00780507 -0.80284821]\n",
      "(50,)\n",
      "<class 'numpy.ndarray'>\n",
      "(50,)\n",
      "<class 'numpy.ndarray'>\n"
     ]
    }
   ],
   "source": [
    "#Create random datasets\n",
    "\n",
    "x = np.random.normal(0, 1, 50)\n",
    "y = x + np.random.normal(0, 0.1, 50)\n",
    "print(x)\n",
    "print(x.shape)\n",
    "print(type(x))\n",
    "\n",
    "print(y.shape)\n",
    "print(type(y))"
   ]
  },
  {
   "cell_type": "code",
   "execution_count": 93,
   "metadata": {},
   "outputs": [
    {
     "data": {
      "text/plain": [
       "0.9935445846358043"
      ]
     },
     "execution_count": 93,
     "metadata": {},
     "output_type": "execute_result"
    }
   ],
   "source": [
    "#Calculate correlation\n",
    "\n",
    "np.corrcoef(x, y)[0,1]"
   ]
  },
  {
   "cell_type": "code",
   "execution_count": 101,
   "metadata": {},
   "outputs": [
    {
     "data": {
      "image/png": "[encoded data removed]",
      "text/plain": [
       "<Figure size 640x480 with 1 Axes>"
      ]
     },
     "metadata": {},
     "output_type": "display_data"
    }
   ],
   "source": [
    "#Plot some graphs\n",
    "\n",
    "plt.plot(x, y, 'bo', c='r') \n",
    "plt.ylabel(\"y label\")\n",
    "plt.xlabel(\"x label\")\n",
    "plt.title(\"Plot\")\n",
    "plt.savefig('Graph.pdf') \n",
    "plt.show() \n",
    "# please use plt.plot? to look at more options "
   ]
  },
  {
   "cell_type": "code",
   "execution_count": 109,
   "metadata": {},
   "outputs": [
    {
     "name": "stdout",
     "output_type": "stream",
     "text": [
      "    mpg  cylinders  displacement  horsepower  weight  acceleration  year  \\\n",
      "0  18.0          8         307.0       130.0    3504          12.0    70   \n",
      "1  15.0          8         350.0       165.0    3693          11.5    70   \n",
      "2  18.0          8         318.0       150.0    3436          11.0    70   \n",
      "\n",
      "   origin                       name  \n",
      "0       1  chevrolet chevelle malibu  \n",
      "1       1          buick skylark 320  \n",
      "2       1         plymouth satellite  \n",
      "<class 'pandas.core.frame.DataFrame'>\n"
     ]
    }
   ],
   "source": [
    "# Load Data from your computer\n",
    "auto = pd.read_csv('./data/Auto.csv', header=0, na_values='?')\n",
    "print(auto.head(3)) ##View top 3 rows of the data\n",
    "print(type(auto))"
   ]
  },
  {
   "cell_type": "code",
   "execution_count": 104,
   "metadata": {},
   "outputs": [
    {
     "name": "stdout",
     "output_type": "stream",
     "text": [
      "(397, 9)\n"
     ]
    }
   ],
   "source": [
    "print(auto.shape) ##know the R*C of the data "
   ]
  },
  {
   "cell_type": "code",
   "execution_count": 105,
   "metadata": {},
   "outputs": [
    {
     "name": "stdout",
     "output_type": "stream",
     "text": [
      "mpg             0\n",
      "cylinders       0\n",
      "displacement    0\n",
      "horsepower      5\n",
      "weight          0\n",
      "acceleration    0\n",
      "year            0\n",
      "origin          0\n",
      "name            0\n",
      "dtype: int64\n"
     ]
    }
   ],
   "source": [
    "print(auto.isnull().sum()) ##Know count of missing observations (none values) in each column"
   ]
  },
  {
   "cell_type": "code",
   "execution_count": 66,
   "metadata": {},
   "outputs": [
    {
     "data": {
      "text/html": [
       "<div>\n",
       "<style scoped>\n",
       "    .dataframe tbody tr th:only-of-type {\n",
       "        vertical-align: middle;\n",
       "    }\n",
       "\n",
       "    .dataframe tbody tr th {\n",
       "        vertical-align: top;\n",
       "    }\n",
       "\n",
       "    .dataframe thead th {\n",
       "        text-align: right;\n",
       "    }\n",
       "</style>\n",
       "<table border=\"1\" class=\"dataframe\">\n",
       "  <thead>\n",
       "    <tr style=\"text-align: right;\">\n",
       "      <th></th>\n",
       "      <th>mpg</th>\n",
       "      <th>cylinders</th>\n",
       "      <th>displacement</th>\n",
       "      <th>horsepower</th>\n",
       "      <th>weight</th>\n",
       "      <th>acceleration</th>\n",
       "      <th>year</th>\n",
       "      <th>origin</th>\n",
       "      <th>name</th>\n",
       "    </tr>\n",
       "  </thead>\n",
       "  <tbody>\n",
       "    <tr>\n",
       "      <th>count</th>\n",
       "      <td>397.000000</td>\n",
       "      <td>397.000000</td>\n",
       "      <td>397.000000</td>\n",
       "      <td>392.000000</td>\n",
       "      <td>397.000000</td>\n",
       "      <td>397.000000</td>\n",
       "      <td>397.000000</td>\n",
       "      <td>397.000000</td>\n",
       "      <td>397</td>\n",
       "    </tr>\n",
       "    <tr>\n",
       "      <th>unique</th>\n",
       "      <td>NaN</td>\n",
       "      <td>NaN</td>\n",
       "      <td>NaN</td>\n",
       "      <td>NaN</td>\n",
       "      <td>NaN</td>\n",
       "      <td>NaN</td>\n",
       "      <td>NaN</td>\n",
       "      <td>NaN</td>\n",
       "      <td>304</td>\n",
       "    </tr>\n",
       "    <tr>\n",
       "      <th>top</th>\n",
       "      <td>NaN</td>\n",
       "      <td>NaN</td>\n",
       "      <td>NaN</td>\n",
       "      <td>NaN</td>\n",
       "      <td>NaN</td>\n",
       "      <td>NaN</td>\n",
       "      <td>NaN</td>\n",
       "      <td>NaN</td>\n",
       "      <td>ford pinto</td>\n",
       "    </tr>\n",
       "    <tr>\n",
       "      <th>freq</th>\n",
       "      <td>NaN</td>\n",
       "      <td>NaN</td>\n",
       "      <td>NaN</td>\n",
       "      <td>NaN</td>\n",
       "      <td>NaN</td>\n",
       "      <td>NaN</td>\n",
       "      <td>NaN</td>\n",
       "      <td>NaN</td>\n",
       "      <td>6</td>\n",
       "    </tr>\n",
       "    <tr>\n",
       "      <th>mean</th>\n",
       "      <td>23.515869</td>\n",
       "      <td>5.458438</td>\n",
       "      <td>193.532746</td>\n",
       "      <td>104.469388</td>\n",
       "      <td>2970.261965</td>\n",
       "      <td>15.555668</td>\n",
       "      <td>75.994962</td>\n",
       "      <td>1.574307</td>\n",
       "      <td>NaN</td>\n",
       "    </tr>\n",
       "    <tr>\n",
       "      <th>std</th>\n",
       "      <td>7.825804</td>\n",
       "      <td>1.701577</td>\n",
       "      <td>104.379583</td>\n",
       "      <td>38.491160</td>\n",
       "      <td>847.904119</td>\n",
       "      <td>2.749995</td>\n",
       "      <td>3.690005</td>\n",
       "      <td>0.802549</td>\n",
       "      <td>NaN</td>\n",
       "    </tr>\n",
       "    <tr>\n",
       "      <th>min</th>\n",
       "      <td>9.000000</td>\n",
       "      <td>3.000000</td>\n",
       "      <td>68.000000</td>\n",
       "      <td>46.000000</td>\n",
       "      <td>1613.000000</td>\n",
       "      <td>8.000000</td>\n",
       "      <td>70.000000</td>\n",
       "      <td>1.000000</td>\n",
       "      <td>NaN</td>\n",
       "    </tr>\n",
       "    <tr>\n",
       "      <th>25%</th>\n",
       "      <td>17.500000</td>\n",
       "      <td>4.000000</td>\n",
       "      <td>104.000000</td>\n",
       "      <td>75.000000</td>\n",
       "      <td>2223.000000</td>\n",
       "      <td>13.800000</td>\n",
       "      <td>73.000000</td>\n",
       "      <td>1.000000</td>\n",
       "      <td>NaN</td>\n",
       "    </tr>\n",
       "    <tr>\n",
       "      <th>50%</th>\n",
       "      <td>23.000000</td>\n",
       "      <td>4.000000</td>\n",
       "      <td>146.000000</td>\n",
       "      <td>93.500000</td>\n",
       "      <td>2800.000000</td>\n",
       "      <td>15.500000</td>\n",
       "      <td>76.000000</td>\n",
       "      <td>1.000000</td>\n",
       "      <td>NaN</td>\n",
       "    </tr>\n",
       "    <tr>\n",
       "      <th>75%</th>\n",
       "      <td>29.000000</td>\n",
       "      <td>8.000000</td>\n",
       "      <td>262.000000</td>\n",
       "      <td>126.000000</td>\n",
       "      <td>3609.000000</td>\n",
       "      <td>17.100000</td>\n",
       "      <td>79.000000</td>\n",
       "      <td>2.000000</td>\n",
       "      <td>NaN</td>\n",
       "    </tr>\n",
       "    <tr>\n",
       "      <th>max</th>\n",
       "      <td>46.600000</td>\n",
       "      <td>8.000000</td>\n",
       "      <td>455.000000</td>\n",
       "      <td>230.000000</td>\n",
       "      <td>5140.000000</td>\n",
       "      <td>24.800000</td>\n",
       "      <td>82.000000</td>\n",
       "      <td>3.000000</td>\n",
       "      <td>NaN</td>\n",
       "    </tr>\n",
       "  </tbody>\n",
       "</table>\n",
       "</div>"
      ],
      "text/plain": [
       "               mpg   cylinders  displacement  horsepower       weight  \\\n",
       "count   397.000000  397.000000    397.000000  392.000000   397.000000   \n",
       "unique         NaN         NaN           NaN         NaN          NaN   \n",
       "top            NaN         NaN           NaN         NaN          NaN   \n",
       "freq           NaN         NaN           NaN         NaN          NaN   \n",
       "mean     23.515869    5.458438    193.532746  104.469388  2970.261965   \n",
       "std       7.825804    1.701577    104.379583   38.491160   847.904119   \n",
       "min       9.000000    3.000000     68.000000   46.000000  1613.000000   \n",
       "25%      17.500000    4.000000    104.000000   75.000000  2223.000000   \n",
       "50%      23.000000    4.000000    146.000000   93.500000  2800.000000   \n",
       "75%      29.000000    8.000000    262.000000  126.000000  3609.000000   \n",
       "max      46.600000    8.000000    455.000000  230.000000  5140.000000   \n",
       "\n",
       "        acceleration        year      origin        name  \n",
       "count     397.000000  397.000000  397.000000         397  \n",
       "unique           NaN         NaN         NaN         304  \n",
       "top              NaN         NaN         NaN  ford pinto  \n",
       "freq             NaN         NaN         NaN           6  \n",
       "mean       15.555668   75.994962    1.574307         NaN  \n",
       "std         2.749995    3.690005    0.802549         NaN  \n",
       "min         8.000000   70.000000    1.000000         NaN  \n",
       "25%        13.800000   73.000000    1.000000         NaN  \n",
       "50%        15.500000   76.000000    1.000000         NaN  \n",
       "75%        17.100000   79.000000    2.000000         NaN  \n",
       "max        24.800000   82.000000    3.000000         NaN  "
      ]
     },
     "execution_count": 66,
     "metadata": {},
     "output_type": "execute_result"
    }
   ],
   "source": [
    "auto.describe(include= 'all') ##Summary statistics of the data"
   ]
  },
  {
   "cell_type": "code",
   "execution_count": 106,
   "metadata": {},
   "outputs": [
    {
     "name": "stdout",
     "output_type": "stream",
     "text": [
      "0      130.0\n",
      "1      165.0\n",
      "2      150.0\n",
      "3      150.0\n",
      "4      140.0\n",
      "       ...  \n",
      "392     86.0\n",
      "393     52.0\n",
      "394     84.0\n",
      "395     79.0\n",
      "396     82.0\n",
      "Name: horsepower, Length: 397, dtype: float64\n",
      "<class 'pandas.core.series.Series'>\n"
     ]
    }
   ],
   "source": [
    "x = auto['horsepower']\n",
    "print(x)\n",
    "print(type(x))"
   ]
  },
  {
   "cell_type": "code",
   "execution_count": 68,
   "metadata": {},
   "outputs": [
    {
     "name": "stdout",
     "output_type": "stream",
     "text": [
      "[18.  15.  18.  16.  17.  15.  14.  14.  14.  15.  15.  14.  15.  14.\n",
      " 24.  22.  18.  21.  27.  26.  25.  24.  25.  26.  21.  10.  10.  11.\n",
      "  9.  27.  28.  25.  25.  19.  16.  17.  19.  18.  14.  14.  14.  14.\n",
      " 12.  13.  13.  18.  22.  19.  18.  23.  28.  30.  30.  31.  35.  27.\n",
      " 26.  24.  25.  23.  20.  21.  13.  14.  15.  14.  17.  11.  13.  12.\n",
      " 13.  19.  15.  13.  13.  14.  18.  22.  21.  26.  22.  28.  23.  28.\n",
      " 27.  13.  14.  13.  14.  15.  12.  13.  13.  14.  13.  12.  13.  18.\n",
      " 16.  18.  18.  23.  26.  11.  12.  13.  12.  18.  20.  21.  22.  18.\n",
      " 19.  21.  26.  15.  16.  29.  24.  20.  19.  15.  24.  20.  11.  20.\n",
      " 21.  19.  15.  31.  26.  32.  25.  16.  16.  18.  16.  13.  14.  14.\n",
      " 14.  29.  26.  26.  31.  32.  28.  24.  26.  24.  26.  31.  19.  18.\n",
      " 15.  15.  16.  15.  16.  14.  17.  16.  15.  18.  21.  20.  13.  29.\n",
      " 23.  20.  23.  24.  25.  24.  18.  29.  19.  23.  23.  22.  25.  33.\n",
      " 28.  25.  25.  26.  27.  17.5 16.  15.5 14.5 22.  22.  24.  22.5 29.\n",
      " 24.5 29.  33.  20.  18.  18.5 17.5 29.5 32.  28.  26.5 20.  13.  19.\n",
      " 19.  16.5 16.5 13.  13.  13.  31.5 30.  36.  25.5 33.5 17.5 17.  15.5\n",
      " 15.  17.5 20.5 19.  18.5 16.  15.5 15.5 16.  29.  24.5 26.  25.5 30.5\n",
      " 33.5 30.  30.5 22.  21.5 21.5 43.1 36.1 32.8 39.4 36.1 19.9 19.4 20.2\n",
      " 19.2 20.5 20.2 25.1 20.5 19.4 20.6 20.8 18.6 18.1 19.2 17.7 18.1 17.5\n",
      " 30.  27.5 27.2 30.9 21.1 23.2 23.8 23.9 20.3 17.  21.6 16.2 31.5 29.5\n",
      " 21.5 19.8 22.3 20.2 20.6 17.  17.6 16.5 18.2 16.9 15.5 19.2 18.5 31.9\n",
      " 34.1 35.7 27.4 25.4 23.  27.2 23.9 34.2 34.5 31.8 37.3 28.4 28.8 26.8\n",
      " 33.5 41.5 38.1 32.1 37.2 28.  26.4 24.3 19.1 34.3 29.8 31.3 37.  32.2\n",
      " 46.6 27.9 40.8 44.3 43.4 36.4 30.  44.6 40.9 33.8 29.8 32.7 23.7 35.\n",
      " 23.6 32.4 27.2 26.6 25.8 23.5 30.  39.1 39.  35.1 32.3 37.  37.7 34.1\n",
      " 34.7 34.4 29.9 33.  34.5 33.7 32.4 32.9 31.6 28.1 30.7 25.4 24.2 22.4\n",
      " 26.6 20.2 17.6 28.  27.  34.  31.  29.  27.  24.  36.  37.  31.  38.\n",
      " 36.  36.  36.  34.  38.  32.  38.  25.  38.  26.  22.  32.  36.  27.\n",
      " 27.  44.  32.  28.  31. ]\n",
      "(397,)\n",
      "<class 'numpy.ndarray'>\n"
     ]
    }
   ],
   "source": [
    "x = auto['mpg'].to_numpy()\n",
    "print(x)\n",
    "print(x.shape)\n",
    "print(type(x))"
   ]
  },
  {
   "cell_type": "code",
   "execution_count": 110,
   "metadata": {},
   "outputs": [
    {
     "name": "stdout",
     "output_type": "stream",
     "text": [
      "5\n"
     ]
    }
   ],
   "source": [
    "\n",
    "print(auto['horsepower'].isnull().sum())\n",
    "\n",
    "\n"
   ]
  },
  {
   "cell_type": "code",
   "execution_count": 111,
   "metadata": {},
   "outputs": [
    {
     "name": "stdout",
     "output_type": "stream",
     "text": [
      "0\n"
     ]
    }
   ],
   "source": [
    "auto['horsepower'] = auto['horsepower'].fillna(auto['horsepower'].mean())\n",
    "\n",
    "print(auto['horsepower'].isnull().sum())"
   ]
  },
  {
   "cell_type": "code",
   "execution_count": 112,
   "metadata": {},
   "outputs": [
    {
     "name": "stdout",
     "output_type": "stream",
     "text": [
      "mpg             0\n",
      "cylinders       0\n",
      "displacement    0\n",
      "horsepower      0\n",
      "weight          0\n",
      "acceleration    0\n",
      "year            0\n",
      "origin          0\n",
      "name            0\n",
      "dtype: int64\n"
     ]
    }
   ],
   "source": [
    "print(auto.isnull().sum())"
   ]
  },
  {
   "cell_type": "code",
   "execution_count": 113,
   "metadata": {},
   "outputs": [
    {
     "name": "stdout",
     "output_type": "stream",
     "text": [
      "[18.  15.  18.  16.  17.  15.  14.  14.  14.  15.  15.  14.  15.  14.\n",
      " 24.  22.  18.  21.  27.  26.  25.  24.  25.  26.  21.  10.  10.  11.\n",
      "  9.  27.  28.  25.  25.  19.  16.  17.  19.  18.  14.  14.  14.  14.\n",
      " 12.  13.  13.  18.  22.  19.  18.  23.  28.  30.  30.  31.  35.  27.\n",
      " 26.  24.  25.  23.  20.  21.  13.  14.  15.  14.  17.  11.  13.  12.\n",
      " 13.  19.  15.  13.  13.  14.  18.  22.  21.  26.  22.  28.  23.  28.\n",
      " 27.  13.  14.  13.  14.  15.  12.  13.  13.  14.  13.  12.  13.  18.\n",
      " 16.  18.  18.  23.  26.  11.  12.  13.  12.  18.  20.  21.  22.  18.\n",
      " 19.  21.  26.  15.  16.  29.  24.  20.  19.  15.  24.  20.  11.  20.\n",
      " 21.  19.  15.  31.  26.  32.  25.  16.  16.  18.  16.  13.  14.  14.\n",
      " 14.  29.  26.  26.  31.  32.  28.  24.  26.  24.  26.  31.  19.  18.\n",
      " 15.  15.  16.  15.  16.  14.  17.  16.  15.  18.  21.  20.  13.  29.\n",
      " 23.  20.  23.  24.  25.  24.  18.  29.  19.  23.  23.  22.  25.  33.\n",
      " 28.  25.  25.  26.  27.  17.5 16.  15.5 14.5 22.  22.  24.  22.5 29.\n",
      " 24.5 29.  33.  20.  18.  18.5 17.5 29.5 32.  28.  26.5 20.  13.  19.\n",
      " 19.  16.5 16.5 13.  13.  13.  31.5 30.  36.  25.5 33.5 17.5 17.  15.5\n",
      " 15.  17.5 20.5 19.  18.5 16.  15.5 15.5 16.  29.  24.5 26.  25.5 30.5\n",
      " 33.5 30.  30.5 22.  21.5 21.5 43.1 36.1 32.8 39.4 36.1 19.9 19.4 20.2\n",
      " 19.2 20.5 20.2 25.1 20.5 19.4 20.6 20.8 18.6 18.1 19.2 17.7 18.1 17.5\n",
      " 30.  27.5 27.2 30.9 21.1 23.2 23.8 23.9 20.3 17.  21.6 16.2 31.5 29.5\n",
      " 21.5 19.8 22.3 20.2 20.6 17.  17.6 16.5 18.2 16.9 15.5 19.2 18.5 31.9\n",
      " 34.1 35.7 27.4 25.4 23.  27.2 23.9 34.2 34.5 31.8 37.3 28.4 28.8 26.8\n",
      " 33.5 41.5 38.1 32.1 37.2 28.  26.4 24.3 19.1 34.3 29.8 31.3 37.  32.2\n",
      " 46.6 27.9 40.8 44.3 43.4 36.4 30.  44.6 40.9 33.8 29.8 32.7 23.7 35.\n",
      " 23.6 32.4 27.2 26.6 25.8 23.5 30.  39.1 39.  35.1 32.3 37.  37.7 34.1\n",
      " 34.7 34.4 29.9 33.  34.5 33.7 32.4 32.9 31.6 28.1 30.7 25.4 24.2 22.4\n",
      " 26.6 20.2 17.6 28.  27.  34.  31.  29.  27.  24.  36.  37.  31.  38.\n",
      " 36.  36.  36.  34.  38.  32.  38.  25.  38.  26.  22.  32.  36.  27.\n",
      " 27.  44.  32.  28.  31. ]\n",
      "(397,)\n",
      "<class 'numpy.ndarray'>\n"
     ]
    }
   ],
   "source": [
    "x = auto['mpg'].to_numpy()\n",
    "print(x)\n",
    "print(x.shape)\n",
    "print(type(x))"
   ]
  },
  {
   "cell_type": "code",
   "execution_count": 114,
   "metadata": {},
   "outputs": [
    {
     "name": "stdout",
     "output_type": "stream",
     "text": [
      "<class 'numpy.ndarray'>\n",
      "(397, 9)\n"
     ]
    }
   ],
   "source": [
    "x = auto.to_numpy()\n",
    "print(type(x))\n",
    "print(x.shape)"
   ]
  },
  {
   "cell_type": "code",
   "execution_count": 115,
   "metadata": {},
   "outputs": [
    {
     "name": "stdout",
     "output_type": "stream",
     "text": [
      "(397,) (397,)\n"
     ]
    }
   ],
   "source": [
    "## analyze the correlation between mpg and horsepower\n",
    "## the value and the plot\n",
    "\n",
    "x = auto['mpg'].to_numpy()\n",
    "y = auto['horsepower'].to_numpy()\n",
    "\n",
    "print(x.shape, y.shape)"
   ]
  },
  {
   "cell_type": "code",
   "execution_count": 117,
   "metadata": {},
   "outputs": [
    {
     "name": "stdout",
     "output_type": "stream",
     "text": [
      "-0.7714413568503374\n"
     ]
    }
   ],
   "source": [
    "correlation = np.corrcoef(x, y)[0,1]\n",
    "print(correlation)"
   ]
  },
  {
   "cell_type": "code",
   "execution_count": 118,
   "metadata": {},
   "outputs": [
    {
     "data": {
      "image/png": "[encoded data removed]",
      "text/plain": [
       "<Figure size 640x480 with 1 Axes>"
      ]
     },
     "metadata": {},
     "output_type": "display_data"
    }
   ],
   "source": [
    "plt.plot(x, y, 'bo', c='r') \n",
    "plt.ylabel(\"horsepower\")\n",
    "plt.xlabel(\"mpg\")\n",
    "\n",
    "plt.savefig('corr.pdf') \n",
    "plt.show() "
   ]
  }
 ],
 "metadata": {
  "kernelspec": {
   "display_name": "Python 3 (ipykernel)",
   "language": "python",
   "name": "python3"
  },
  "language_info": {
   "codemirror_mode": {
    "name": "ipython",
    "version": 3
   },
   "file_extension": ".py",
   "mimetype": "text/x-python",
   "name": "python",
   "nbconvert_exporter": "python",
   "pygments_lexer": "ipython3",
   "version": "3.8.1"
  }
 },
 "nbformat": 4,
 "nbformat_minor": 2
}
